{
 "cells": [
  {
   "cell_type": "markdown",
   "metadata": {},
   "source": [
    "# K-Means dan K-Medoids\n",
    "\n",
    "\n",
    "K-means dan K-modes adalah algoritma clustering dengan melakukan partisi antara data. K-means adalah algoritma clustering dengan melakukan pengelompokan berdasarkan means dari data sebagai centroid. K-medoids adalah algoritma clustering dengan melakukan pengelompokan berdasarkan modus, atau <i>instance</i> tengah dari seluruh data. \n",
    "\n",
    "## Pseudo Code\n",
    "### K-Means\n",
    "    assign k centroid randomly\n",
    "    for i in range(max_iteration)\n",
    "        assign data to cluster\n",
    "        recalculate centroid\n",
    "        if distance(new_centroid, centroid) < threshold\n",
    "           break\n",
    "### K-Medoids\n",
    "    assign k medoids randomly\n",
    "    for i in range(max_iteration)\n",
    "        assign data to cluster\n",
    "        choose random new medoids\n",
    "        calculate weight for new medoids\n",
    "        if new_weight < weight\n",
    "            medoid = new medoid\n",
    "        else\n",
    "            break\n",
    "\n",
    "\n",
    "## Source Code"
   ]
  },
  {
   "cell_type": "markdown",
   "metadata": {},
   "source": [
    "Load data dari dataset sklearn"
   ]
  },
  {
   "cell_type": "code",
   "execution_count": 481,
   "metadata": {},
   "outputs": [],
   "source": [
    "from sklearn import datasets\n",
    "iris = datasets.load_iris()\n",
    "data = iris.data\n",
    "label = iris.target"
   ]
  },
  {
   "cell_type": "markdown",
   "metadata": {},
   "source": [
    "Implementasi fungsi euclidean distance yang digunakan untuk menentukan jarak antara dua data"
   ]
  },
  {
   "cell_type": "code",
   "execution_count": 87,
   "metadata": {
    "collapsed": true
   },
   "outputs": [],
   "source": [
    "from math import sqrt\n",
    "\n",
    "def euclidean_distance(instance1, instance2):\n",
    "    return sqrt((instance1[0]-instance2[0])**2 + (instance1[1]-instance2[1])**2 + (instance1[2]-instance2[2])**2\n",
    "        + (instance1[3]-instance2[3])**2)"
   ]
  },
  {
   "cell_type": "markdown",
   "metadata": {},
   "source": [
    "Implementasi fungsi kmeans"
   ]
  },
  {
   "cell_type": "code",
   "execution_count": 474,
   "metadata": {
    "scrolled": false
   },
   "outputs": [],
   "source": [
    "from random import randint\n",
    "\n",
    "def kmeans(data, k, max_iter):\n",
    "    centroid = []\n",
    "    for i in range (0, k):\n",
    "        centroid.append(data[i * int(((len(data) - 1)/k)) - 1])\n",
    "    cluster = [-1] * len(data)\n",
    "    for ii in range (0, max_iter):\n",
    "        for ij in range(0, len(cluster)):\n",
    "            clust = -1\n",
    "            min_dist = 100\n",
    "            for ik in range(0, len(centroid)):\n",
    "                distance = euclidean_distance(data[ij], centroid[ik])\n",
    "                if (distance < min_dist):\n",
    "                    clust = ik\n",
    "                    min_dist = distance\n",
    "            cluster[ij] = clust\n",
    "        total = [[0]*len(data[0])] * k\n",
    "        count = [0] * k\n",
    "        for ij in range(0, len(cluster)):\n",
    "            add_data = []\n",
    "            for ik in range(0, len(data[ij])):\n",
    "                add_number = total[cluster[ij]][ik] + data[ij][ik]\n",
    "                add_data.append(add_number)\n",
    "            count[cluster[ij]] += 1\n",
    "            total[cluster[ij]] = add_data\n",
    "        new_centroid = [[0] * len(data[0])] * k\n",
    "        for ij in range(0, len(centroid)):\n",
    "            add_data = []\n",
    "            for ik in range(0, len(centroid[ij])):\n",
    "                add_number = total[ij][ik] / count[ij]\n",
    "                add_data.append(add_number)\n",
    "            new_centroid[ij] = add_data\n",
    "        \n",
    "        centroid = new_centroid\n",
    "        less_threshold = False\n",
    "        for ij in range(0, len(centroid)):\n",
    "            if (euclidean_distance(centroid[ij], new_centroid[ij]) < 0.05):\n",
    "                less_threshold = True\n",
    "        if less_threshold:\n",
    "            break\n",
    "    return centroid, cluster\n",
    "centroid, cluster = kmeans(data, 3, 1000)"
   ]
  },
  {
   "cell_type": "markdown",
   "metadata": {},
   "source": [
    "Implementasi fungsi prediksi Kmeans dan hasil prediksi"
   ]
  },
  {
   "cell_type": "code",
   "execution_count": 477,
   "metadata": {},
   "outputs": [
    {
     "name": "stdout",
     "output_type": "stream",
     "text": [
      "[1, 1, 1, 1, 1, 1, 1, 1, 1, 1, 1, 1, 1, 1, 1, 1, 1, 1, 1, 1, 1, 1, 1, 1, 1, 1, 1, 1, 1, 1, 1, 1, 1, 1, 1, 1, 1, 1, 1, 1, 1, 1, 1, 1, 1, 1, 1, 1, 1, 1, 0, 2, 0, 2, 2, 2, 2, 2, 2, 2, 2, 2, 2, 2, 2, 2, 2, 2, 2, 2, 2, 2, 2, 2, 2, 2, 0, 0, 2, 2, 2, 2, 2, 0, 2, 2, 0, 2, 2, 2, 2, 2, 2, 2, 2, 2, 2, 2, 2, 2, 0, 0, 0, 0, 0, 0, 2, 0, 0, 0, 0, 0, 0, 0, 0, 0, 0, 0, 0, 2, 0, 2, 0, 0, 0, 0, 0, 0, 0, 0, 0, 0, 0, 0, 0, 0, 0, 0, 2, 0, 0, 0, 0, 0, 0, 0, 0, 0, 0, 0]\n"
     ]
    }
   ],
   "source": [
    "def kmeans_predict (data, centroid):\n",
    "    cluster = []\n",
    "    for i in data:\n",
    "        clust = -1\n",
    "        min_dist = 100\n",
    "        for ik in range(0, len(centroid)):\n",
    "            distance = euclidean_distance(i, centroid[ik])\n",
    "            if (distance < min_dist):\n",
    "                clust = ik\n",
    "                min_dist = distance\n",
    "        cluster.append(clust)\n",
    "    return cluster\n",
    "\n",
    "print(kmeans_predict(data, centroid))"
   ]
  },
  {
   "cell_type": "markdown",
   "metadata": {},
   "source": [
    "Implementasi fungsi manhattan distance yang digunakan untuk menghitung jarak antara dua data pada K-modes"
   ]
  },
  {
   "cell_type": "code",
   "execution_count": 110,
   "metadata": {
    "collapsed": true
   },
   "outputs": [],
   "source": [
    "def manhattan_distance(instance1, instance2):\n",
    "    distance = abs(instance1[0]-instance2[0]) + abs(instance1[1]-instance2[1]) + abs(instance1[2]-instance2[2]) + abs(instance1[3]-instance2[3])\n",
    "    return distance"
   ]
  },
  {
   "cell_type": "markdown",
   "metadata": {},
   "source": [
    "Implementasi perhitungan weight untuk k-medoids\n",
    "\n",
    "Implementasi fungsi k-medoids"
   ]
  },
  {
   "cell_type": "code",
   "execution_count": 468,
   "metadata": {},
   "outputs": [],
   "source": [
    "def calculate_weight(data, cluster, medoid):\n",
    "    weight = 0\n",
    "    for i in range(0, len(cluster)):\n",
    "        weight += manhattan_distance(data[i], data[medoid[cluster[i]]])\n",
    "    return weight\n",
    "def kmedoids(data, k, max_iter):\n",
    "    medoid = []\n",
    "    next_medoid = []\n",
    "    cluster = [-1] * len(data)\n",
    "    next_cluster = [-1] * len(data)\n",
    "    last_weight = 10000\n",
    "    for i in range (0, k):\n",
    "        medoid.append(i * int(((len(data) - 1)/k)))\n",
    "    for ij in range(0, len(cluster)):\n",
    "        clust = -1\n",
    "        min_dist = 100\n",
    "        for ik in range(0, len(medoid)):\n",
    "            distance = manhattan_distance(data[ij], data[medoid[ik]])\n",
    "            if (distance < min_dist):\n",
    "                clust = ik\n",
    "                min_dist = distance\n",
    "        cluster[ij] = clust\n",
    "    c = 0\n",
    "    for i in range(0, max_iter):\n",
    "        next_medoid = []\n",
    "        for ii in range (0, k):\n",
    "            rand = randint(0, len(data)-1)\n",
    "            check_medoid = True\n",
    "            while check_medoid:\n",
    "                if rand not in next_medoid and cluster[rand] == ii:\n",
    "                    check_medoid = False\n",
    "                else:\n",
    "                    rand = randint(0, len(data) - 1)\n",
    "            next_medoid.append(rand)\n",
    "                \n",
    "#             if (ii == c):\n",
    "#                 rand = randint(0, len(data)-1)\n",
    "#                 check_medoid = True\n",
    "#                 while (check_medoid):\n",
    "#                     if rand not in medoid and cluster[rand] == ii:\n",
    "#                         check_medoid = False\n",
    "#                     else:\n",
    "#                         rand = randint(0, len(data) - 1)\n",
    "#                 next_medoid.append(rand)\n",
    "#             else:\n",
    "#                 next_medoid.append(medoid[ii])\n",
    "#             print(next_medoid)\n",
    "        for ij in range(0, len(next_cluster)):\n",
    "            clust = -1\n",
    "            min_dist = 100\n",
    "            for ik in range(0, len(medoid)):\n",
    "                distance = manhattan_distance(data[ij], data[next_medoid[ik]])\n",
    "                if (distance < min_dist):\n",
    "                    clust = ik\n",
    "                    min_dist = distance\n",
    "            next_cluster[ij] = clust\n",
    "        weight = calculate_weight(data, cluster, next_medoid)\n",
    "        stop_condition = False\n",
    "        if (next_cluster == cluster):\n",
    "            stop_condition = True\n",
    "        if (weight < last_weight):\n",
    "            last_weight = weight\n",
    "            medoid = next_medoid\n",
    "            cluster = next_cluster\n",
    "            next_medoid = []\n",
    "        elif (stop_condition):\n",
    "            break; \n",
    "    return medoid, cluster;\n",
    "medoid, cluster = kmedoids(data, 3, 1000)\n",
    "        "
   ]
  },
  {
   "cell_type": "markdown",
   "metadata": {},
   "source": [
    "Implementasi fungsi prediksi k-medoids serta hasil prediksi pada data"
   ]
  },
  {
   "cell_type": "code",
   "execution_count": 484,
   "metadata": {},
   "outputs": [
    {
     "name": "stdout",
     "output_type": "stream",
     "text": [
      "[1, 1, 1, 1, 1, 1, 1, 1, 1, 1, 1, 1, 1, 1, 1, 1, 1, 1, 1, 1, 1, 1, 1, 1, 1, 1, 1, 1, 1, 1, 1, 1, 1, 1, 1, 1, 1, 1, 1, 1, 1, 1, 1, 1, 1, 1, 1, 1, 1, 1, 2, 0, 2, 0, 0, 0, 0, 0, 0, 0, 0, 0, 0, 0, 0, 0, 0, 0, 0, 0, 0, 0, 2, 0, 0, 0, 2, 2, 0, 0, 0, 0, 0, 2, 0, 0, 2, 0, 0, 0, 0, 0, 0, 0, 0, 0, 0, 0, 0, 0, 2, 2, 2, 2, 2, 2, 0, 2, 2, 2, 2, 2, 2, 2, 2, 2, 2, 2, 2, 0, 2, 0, 2, 2, 2, 2, 0, 2, 2, 2, 2, 2, 2, 2, 2, 2, 2, 2, 0, 2, 2, 2, 2, 2, 2, 2, 2, 2, 2, 2]\n"
     ]
    }
   ],
   "source": [
    "def kmedoids_predict (data, medoid):\n",
    "    cluster = []\n",
    "    for i in data:\n",
    "        clust = -1\n",
    "        min_dist = 100\n",
    "        for ik in range(0, len(medoid)):\n",
    "            distance = euclidean_distance(i, medoid[ik])\n",
    "            if (distance < min_dist):\n",
    "                clust = ik\n",
    "                min_dist = distance\n",
    "        cluster.append(clust)\n",
    "    return cluster\n",
    "\n",
    "print(kmedoids_predict (data, data[medoid]))"
   ]
  },
  {
   "cell_type": "markdown",
   "metadata": {},
   "source": [
    "Implementasi fungsi perhitungan akurasi.\n",
    "Untuk melakukan perhitungan akurasi, digunakan confusion matrix. Confusion matrix digunakan karena label hasil prediksi mungkin tidak tepat dengan label target"
   ]
  },
  {
   "cell_type": "code",
   "execution_count": 489,
   "metadata": {},
   "outputs": [
    {
     "name": "stdout",
     "output_type": "stream",
     "text": [
      "Akurasi prediksi dengan k-means  : 0.933333333333\n",
      "Akurasi prediksi dengan k-medoids: 0.92\n"
     ]
    }
   ],
   "source": [
    "from sklearn import metrics\n",
    "def check_accuracy(pred, target):\n",
    "    if (len(pred) == len(target)):\n",
    "        confusion = metrics.confusion_matrix(target, pred)\n",
    "        total = 0\n",
    "        for i in range(0, len(confusion)):\n",
    "            maximum = 0\n",
    "            for j in range(0, len(confusion[i])):\n",
    "                if confusion[i][j] > maximum:\n",
    "                    maximum = confusion[i][j]\n",
    "            total += maximum\n",
    "        return(total / len(pred))\n",
    "    else:\n",
    "        raise(\"prediction and target isn't the same size\")\n",
    "print(\"Akurasi prediksi dengan k-means  :\", check_accuracy(kmeans_predict(data, centroid), label))\n",
    "print(\"Akurasi prediksi dengan k-medoids:\", check_accuracy(kmedoids_predict(data, data[medoid]), label))"
   ]
  }
 ],
 "metadata": {
  "kernelspec": {
   "display_name": "Python 3",
   "language": "python",
   "name": "python3"
  },
  "language_info": {
   "codemirror_mode": {
    "name": "ipython",
    "version": 3
   },
   "file_extension": ".py",
   "mimetype": "text/x-python",
   "name": "python",
   "nbconvert_exporter": "python",
   "pygments_lexer": "ipython3",
   "version": "3.6.3"
  }
 },
 "nbformat": 4,
 "nbformat_minor": 2
}
