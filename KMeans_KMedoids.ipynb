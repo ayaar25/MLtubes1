{
 "cells": [
  {
   "cell_type": "code",
   "execution_count": 104,
   "metadata": {},
   "outputs": [
    {
     "name": "stdout",
     "output_type": "stream",
     "text": [
      "150\n"
     ]
    }
   ],
   "source": [
    "from sklearn import datasets\n",
    "iris = datasets.load_iris()\n",
    "data = iris.data"
   ]
  },
  {
   "cell_type": "code",
   "execution_count": 87,
   "metadata": {
    "collapsed": true
   },
   "outputs": [],
   "source": [
    "from math import sqrt\n",
    "\n",
    "def euclidean_distance(instance1, instance2):\n",
    "    return sqrt((instance1[0]-instance2[0])**2 + (instance1[1]-instance2[1])**2 + (instance1[2]-instance2[2])**2\n",
    "        + (instance1[3]-instance2[3])**2)\n",
    "\n",
    "def make_distance_matrix(array):\n",
    "    distance_matrix = []\n",
    "    for i in range(0, len(array)):\n",
    "        distance_matrix.append([])\n",
    "        for j in range (0, len(array)):\n",
    "            distance_matrix[i].append(euclidean_distance(array[i], array[j]))\n",
    "    return distance_matrix"
   ]
  },
  {
   "cell_type": "code",
   "execution_count": 129,
   "metadata": {
    "scrolled": false
   },
   "outputs": [
    {
     "name": "stdout",
     "output_type": "stream",
     "text": [
      "[1, 1, 1, 1, 1, 1, 1, 1, 1, 1, 1, 1, 1, 1, 1, 1, 1, 1, 1, 1, 1, 1, 1, 1, 1, 1, 1, 1, 1, 1, 1, 1, 1, 1, 1, 1, 1, 1, 1, 1, 1, 1, 1, 1, 1, 1, 1, 1, 1, 1, 2, 2, 2, 2, 2, 2, 2, 2, 2, 2, 2, 2, 2, 2, 2, 2, 2, 2, 2, 2, 0, 2, 0, 2, 2, 2, 2, 0, 2, 2, 2, 2, 2, 0, 0, 2, 2, 2, 2, 2, 2, 2, 2, 2, 2, 2, 2, 2, 2, 2, 0, 0, 0, 0, 0, 0, 0, 0, 0, 0, 0, 0, 0, 0, 0, 0, 0, 0, 0, 0, 0, 0, 0, 0, 0, 0, 0, 0, 0, 0, 0, 0, 0, 0, 0, 0, 0, 0, 0, 0, 0, 0, 0, 0, 0, 0, 0, 0, 0, 0]\n",
      "[[6.5399999999999974, 2.9654545454545449, 5.4890909090909075, 1.9890909090909086], [5.0059999999999993, 3.4180000000000006, 1.464, 0.24399999999999991], [5.9222222222222207, 2.7577777777777781, 4.1933333333333334, 1.2933333333333332]]\n"
     ]
    }
   ],
   "source": [
    "from random import randint\n",
    "\n",
    "def kmeans(data, k, max_iter):\n",
    "    centroid = []\n",
    "    for i in range (0, k):\n",
    "        centroid.append(data[i * int(((len(data) - 1)/k)) - 1])\n",
    "    cluster = [-1] * len(data)\n",
    "    for ii in range (0, max_iter):\n",
    "        for ij in range(0, len(cluster)):\n",
    "            clust = -1\n",
    "            min_dist = 100\n",
    "            for ik in range(0, len(centroid)):\n",
    "                distance = euclidean_distance(data[ij], centroid[ik])\n",
    "                if (distance < min_dist):\n",
    "                    clust = ik\n",
    "                    min_dist = distance\n",
    "            cluster[ij] = clust\n",
    "        total = [[0]*len(data[0])] * k\n",
    "        count = [0] * k\n",
    "        for ij in range(0, len(cluster)):\n",
    "            add_data = []\n",
    "            for ik in range(0, len(data[ij])):\n",
    "                add_number = total[cluster[ij]][ik] + data[ij][ik]\n",
    "                add_data.append(add_number)\n",
    "            count[cluster[ij]] += 1\n",
    "            total[cluster[ij]] = add_data\n",
    "        new_centroid = [[0] * len(data[0])] * k\n",
    "        for ij in range(0, len(centroid)):\n",
    "            add_data = []\n",
    "            for ik in range(0, len(centroid[ij])):\n",
    "                add_number = total[ij][ik] / count[ij]\n",
    "                add_data.append(add_number)\n",
    "            new_centroid[ij] = add_data\n",
    "        \n",
    "        centroid = new_centroid\n",
    "        less_threshold = False\n",
    "        for ij in range(0, len(centroid)):\n",
    "            if (euclidean_distance(centroid[ij], new_centroid[ij]) < 0.05):\n",
    "                less_threshold = True\n",
    "        if less_threshold:\n",
    "            break\n",
    "    return centroid, cluster\n",
    "centroid, cluster = kmeans(data, 3, 1000)\n",
    "print(cluster)\n",
    "print(centroid)"
   ]
  },
  {
   "cell_type": "code",
   "execution_count": 110,
   "metadata": {
    "collapsed": true
   },
   "outputs": [],
   "source": [
    "def manhattan_distance(instance1, instance2):\n",
    "    distance = abs(instance1[0]-instance2[0]) + abs(instance1[1]-instance2[1]) + abs(instance1[2]-instance2[2]) + abs(instance1[3]-instance2[3])\n",
    "    return distance"
   ]
  },
  {
   "cell_type": "code",
   "execution_count": 139,
   "metadata": {},
   "outputs": [
    {
     "name": "stdout",
     "output_type": "stream",
     "text": [
      "[1, 1, 1, 1, 1, 1, 1, 1, 1, 1, 1, 1, 1, 1, 1, 1, 1, 1, 1, 1, 1, 1, 1, 1, 1, 1, 1, 1, 1, 1, 1, 1, 1, 1, 1, 1, 1, 1, 1, 1, 1, 1, 1, 1, 1, 1, 1, 1, 1, 1, 2, 2, 0, 2, 2, 2, 2, 2, 2, 2, 2, 2, 2, 2, 2, 2, 2, 2, 2, 2, 0, 2, 2, 2, 2, 2, 2, 0, 2, 2, 2, 2, 2, 0, 2, 2, 2, 2, 2, 2, 2, 2, 2, 2, 2, 2, 2, 2, 2, 2, 0, 0, 0, 0, 0, 0, 0, 0, 0, 0, 0, 0, 0, 0, 0, 0, 0, 0, 0, 0, 0, 0, 0, 0, 0, 0, 0, 0, 0, 0, 0, 0, 0, 0, 0, 0, 0, 0, 0, 0, 0, 0, 0, 0, 0, 0, 0, 0, 0, 0]\n"
     ]
    }
   ],
   "source": [
    "def calculate_weight(data, cluster, medoid):\n",
    "    weight = 0\n",
    "    for i in range(0, len(cluster)):\n",
    "        weight += manhattan_distance(data[i], data[medoid[cluster[i]]])\n",
    "    return weight\n",
    "def kmedoids(data, k, max_iter):\n",
    "    medoid = []\n",
    "    next_medoid = []\n",
    "    cluster = [-1] * len(data)\n",
    "    next_cluster = [-1] * len(data)\n",
    "    last_weight = 100\n",
    "    for i in range (0, k):\n",
    "        medoid.append(i * int(((len(data) - 1)/k)) - 1)\n",
    "    for ij in range(0, len(cluster)):\n",
    "        clust = -1\n",
    "        min_dist = 100\n",
    "        for ik in range(0, len(medoid)):\n",
    "            distance = manhattan_distance(data[ij], data[medoid[ik]])\n",
    "            if (distance < min_dist):\n",
    "                clust = ik\n",
    "                min_dist = distance\n",
    "        cluster[ij] = clust\n",
    "    for i in range(0, max_iter):\n",
    "        for ii in range (0, k):\n",
    "            rand = randint(0, len(data)-1)\n",
    "            check_medoid = True\n",
    "            while (check_medoid):\n",
    "                if rand not in medoid and cluster[rand] == ii:\n",
    "                    check_medoid = False\n",
    "                else:\n",
    "                    rand = randint(0, len(data) - 1)\n",
    "            next_medoid.append(rand)\n",
    "        for ij in range(0, len(next_cluster)):\n",
    "            clust = -1\n",
    "            min_dist = 100\n",
    "            for ik in range(0, len(medoid)):\n",
    "                distance = manhattan_distance(data[ij], data[next_medoid[ik]])\n",
    "                if (distance < min_dist):\n",
    "                    clust = ik\n",
    "                    min_dist = distance\n",
    "            next_cluster[ij] = clust\n",
    "        weight = calculate_weight(data, cluster, next_medoid)\n",
    "        if (weight < last_weight):\n",
    "            last_weight = weight\n",
    "            medoid = next_medoid\n",
    "            cluster = next_cluster\n",
    "            next_medoid = []\n",
    "        else:\n",
    "            break;\n",
    "    return cluster;\n",
    "print(kmedoids(data, 3, 1000))\n",
    "        "
   ]
  },
  {
   "cell_type": "code",
   "execution_count": 52,
   "metadata": {},
   "outputs": [
    {
     "ename": "TypeError",
     "evalue": "only integer scalar arrays can be converted to a scalar index",
     "output_type": "error",
     "traceback": [
      "\u001b[1;31m---------------------------------------------------------------------------\u001b[0m",
      "\u001b[1;31mTypeError\u001b[0m                                 Traceback (most recent call last)",
      "\u001b[1;32m<ipython-input-52-42e688e74b3b>\u001b[0m in \u001b[0;36m<module>\u001b[1;34m()\u001b[0m\n\u001b[0;32m     12\u001b[0m     \u001b[1;31m#find the distance between the point and cluster; choose the nearest centroid\u001b[0m\u001b[1;33m\u001b[0m\u001b[1;33m\u001b[0m\u001b[0m\n\u001b[0;32m     13\u001b[0m     \u001b[1;32mfor\u001b[0m \u001b[0mfeatures\u001b[0m \u001b[1;32min\u001b[0m \u001b[0mdata\u001b[0m\u001b[1;33m:\u001b[0m\u001b[1;33m\u001b[0m\u001b[0m\n\u001b[1;32m---> 14\u001b[1;33m         \u001b[0mdistances\u001b[0m \u001b[1;33m=\u001b[0m \u001b[1;33m[\u001b[0m\u001b[0mnp\u001b[0m\u001b[1;33m.\u001b[0m\u001b[0mlinalg\u001b[0m\u001b[1;33m.\u001b[0m\u001b[0mnorm\u001b[0m\u001b[1;33m(\u001b[0m\u001b[0mfeatures\u001b[0m \u001b[1;33m-\u001b[0m \u001b[0mcentroids\u001b[0m\u001b[1;33m[\u001b[0m\u001b[0mcentroid\u001b[0m\u001b[1;33m]\u001b[0m\u001b[1;33m)\u001b[0m \u001b[1;32mfor\u001b[0m \u001b[0mcentroid\u001b[0m \u001b[1;32min\u001b[0m \u001b[0mcentroids\u001b[0m\u001b[1;33m]\u001b[0m\u001b[1;33m\u001b[0m\u001b[0m\n\u001b[0m\u001b[0;32m     15\u001b[0m         \u001b[0mclassification\u001b[0m \u001b[1;33m=\u001b[0m \u001b[0mdistances\u001b[0m\u001b[1;33m.\u001b[0m\u001b[0mindex\u001b[0m\u001b[1;33m(\u001b[0m\u001b[0mmin\u001b[0m\u001b[1;33m(\u001b[0m\u001b[0mdistances\u001b[0m\u001b[1;33m)\u001b[0m\u001b[1;33m)\u001b[0m\u001b[1;33m\u001b[0m\u001b[0m\n\u001b[0;32m     16\u001b[0m         \u001b[0mclasses\u001b[0m\u001b[1;33m[\u001b[0m\u001b[0mclassification\u001b[0m\u001b[1;33m]\u001b[0m\u001b[1;33m.\u001b[0m\u001b[0mappend\u001b[0m\u001b[1;33m(\u001b[0m\u001b[0mfeatures\u001b[0m\u001b[1;33m)\u001b[0m\u001b[1;33m\u001b[0m\u001b[0m\n",
      "\u001b[1;32m<ipython-input-52-42e688e74b3b>\u001b[0m in \u001b[0;36m<listcomp>\u001b[1;34m(.0)\u001b[0m\n\u001b[0;32m     12\u001b[0m     \u001b[1;31m#find the distance between the point and cluster; choose the nearest centroid\u001b[0m\u001b[1;33m\u001b[0m\u001b[1;33m\u001b[0m\u001b[0m\n\u001b[0;32m     13\u001b[0m     \u001b[1;32mfor\u001b[0m \u001b[0mfeatures\u001b[0m \u001b[1;32min\u001b[0m \u001b[0mdata\u001b[0m\u001b[1;33m:\u001b[0m\u001b[1;33m\u001b[0m\u001b[0m\n\u001b[1;32m---> 14\u001b[1;33m         \u001b[0mdistances\u001b[0m \u001b[1;33m=\u001b[0m \u001b[1;33m[\u001b[0m\u001b[0mnp\u001b[0m\u001b[1;33m.\u001b[0m\u001b[0mlinalg\u001b[0m\u001b[1;33m.\u001b[0m\u001b[0mnorm\u001b[0m\u001b[1;33m(\u001b[0m\u001b[0mfeatures\u001b[0m \u001b[1;33m-\u001b[0m \u001b[0mcentroids\u001b[0m\u001b[1;33m[\u001b[0m\u001b[0mcentroid\u001b[0m\u001b[1;33m]\u001b[0m\u001b[1;33m)\u001b[0m \u001b[1;32mfor\u001b[0m \u001b[0mcentroid\u001b[0m \u001b[1;32min\u001b[0m \u001b[0mcentroids\u001b[0m\u001b[1;33m]\u001b[0m\u001b[1;33m\u001b[0m\u001b[0m\n\u001b[0m\u001b[0;32m     15\u001b[0m         \u001b[0mclassification\u001b[0m \u001b[1;33m=\u001b[0m \u001b[0mdistances\u001b[0m\u001b[1;33m.\u001b[0m\u001b[0mindex\u001b[0m\u001b[1;33m(\u001b[0m\u001b[0mmin\u001b[0m\u001b[1;33m(\u001b[0m\u001b[0mdistances\u001b[0m\u001b[1;33m)\u001b[0m\u001b[1;33m)\u001b[0m\u001b[1;33m\u001b[0m\u001b[0m\n\u001b[0;32m     16\u001b[0m         \u001b[0mclasses\u001b[0m\u001b[1;33m[\u001b[0m\u001b[0mclassification\u001b[0m\u001b[1;33m]\u001b[0m\u001b[1;33m.\u001b[0m\u001b[0mappend\u001b[0m\u001b[1;33m(\u001b[0m\u001b[0mfeatures\u001b[0m\u001b[1;33m)\u001b[0m\u001b[1;33m\u001b[0m\u001b[0m\n",
      "\u001b[1;31mTypeError\u001b[0m: only integer scalar arrays can be converted to a scalar index"
     ]
    }
   ],
   "source": [
    "import numpy as np\n",
    "centroids = []\n",
    "classes = {}\n",
    "k = 3\n",
    "\n",
    "for i in range(k):\n",
    "    centroids.append(data[i])\n",
    "for i in range(1000):\n",
    "    classes = {}\n",
    "    for i in range(k):\n",
    "        classes[i] = []\n",
    "\n",
    "    #find the distance between the point and cluster; choose the nearest centroid\n",
    "    for features in data:\n",
    "        distances = [np.linalg.norm(features - centroids[centroid]) for centroid in centroids]\n",
    "        classification = distances.index(min(distances))\n",
    "        classes[classification].append(features)\n",
    "    previous = dict(centroids)\n",
    "\n",
    "    #average the cluster datapoints to re-calculate the centroids\n",
    "    for classification in classes:\n",
    "        centroids[classification] = np.average(classes[classification], axis = 0)\n",
    "    for centroid in self.centroids:\n",
    "        original_centroid = previous[centroid]\n",
    "        curr = self.centroids[centroid]\n",
    "\n",
    "        if np.sum((curr - original_centroid)/original_centroid * 100.0) > self.tolerance:\n",
    "            isOptimal = False\n",
    "\n",
    "        #break out of the main loop if the results are optimal, ie. the centroids don't change their positions much(more than our tolerance)\n",
    "\n",
    "    if isOptimal:\n",
    "            break"
   ]
  },
  {
   "cell_type": "code",
   "execution_count": null,
   "metadata": {
    "collapsed": true
   },
   "outputs": [],
   "source": [
    "\n"
   ]
  }
 ],
 "metadata": {
  "kernelspec": {
   "display_name": "Python 3",
   "language": "python",
   "name": "python3"
  },
  "language_info": {
   "codemirror_mode": {
    "name": "ipython",
    "version": 3
   },
   "file_extension": ".py",
   "mimetype": "text/x-python",
   "name": "python",
   "nbconvert_exporter": "python",
   "pygments_lexer": "ipython3",
   "version": "3.6.3"
  }
 },
 "nbformat": 4,
 "nbformat_minor": 2
}
