{
 "cells": [
  {
   "cell_type": "code",
   "execution_count": 2,
   "metadata": {
    "collapsed": true
   },
   "outputs": [],
   "source": [
    "from math import sqrt\n",
    "\n",
    "def euclidean_distance(instance1, instance2):\n",
    "    return sqrt((instance1[0]-instance2[0])**2 + (instance1[1]-instance2[1])**2 + (instance1[2]-instance2[2])**2\n",
    "        + (instance1[3]-instance2[3])**2)"
   ]
  },
  {
   "cell_type": "code",
   "execution_count": 3,
   "metadata": {
    "collapsed": true
   },
   "outputs": [],
   "source": [
    "def make_distance_matrix(array):\n",
    "    distance_matrix = []\n",
    "    for i in range(0, len(array)):\n",
    "        distance_matrix.append([])\n",
    "        for j in range (0, len(array)):\n",
    "            distance_matrix[i].append(euclidean_distance(array[i], array[j]))\n",
    "    return distance_matrix"
   ]
  },
  {
   "cell_type": "code",
   "execution_count": 39,
   "metadata": {},
   "outputs": [],
   "source": [
    "from sklearn import datasets\n",
    "iris = datasets.load_iris()"
   ]
  },
  {
   "cell_type": "code",
   "execution_count": 5,
   "metadata": {
    "collapsed": true
   },
   "outputs": [],
   "source": [
    "def make_clusters(distance_matrix, epsilon):\n",
    "    clusters = []\n",
    "    for i in range(0, len(distance_matrix)):\n",
    "        clusters.append([])\n",
    "        for j in range (0, len(distance_matrix[i])):\n",
    "            if (distance_matrix[i][j] <= epsilon):\n",
    "                clusters[i].append(j)\n",
    "    return clusters"
   ]
  },
  {
   "cell_type": "code",
   "execution_count": 32,
   "metadata": {
    "collapsed": true
   },
   "outputs": [],
   "source": [
    "def merge_clusters(clusters, min_pts):\n",
    "    merged_clusters = []\n",
    "    for i in range(0, len(clusters)):\n",
    "        if (len(clusters[i]) >= min_pts):\n",
    "            if (len(merged_clusters) == 0):\n",
    "                merged_clusters.append(clusters[i])\n",
    "            else:\n",
    "                already_listed = False\n",
    "                first_match_index = -1\n",
    "                for j in range(0, len(merged_clusters)):\n",
    "                    if (not set(merged_clusters[j]).isdisjoint(set(clusters[i]))):\n",
    "                        already_listed = True\n",
    "                        if (first_match_index == -1):\n",
    "                            merged_clusters[j] = list(set(merged_clusters[j]).union(set(clusters[i])))\n",
    "                            first_match_index = j\n",
    "                        else:\n",
    "                            merged_clusters[first_match_index] = list(set(merged_clusters[first_match_index]).union(set(clusters[i])))\n",
    "                            merged_clusters[j] = []\n",
    "                    else:\n",
    "                        pass\n",
    "                if (not already_listed):\n",
    "                    merged_clusters.append(clusters[i])\n",
    "        else:\n",
    "            pass\n",
    "    i = len(merged_clusters)-1\n",
    "    while (i >= 0):\n",
    "        if (len(merged_clusters[i]) == 0):\n",
    "            del merged_clusters[i]\n",
    "        i = i-1\n",
    "    return merged_clusters"
   ]
  },
  {
   "cell_type": "code",
   "execution_count": 23,
   "metadata": {
    "collapsed": true
   },
   "outputs": [],
   "source": [
    "def DBSCAN_predict(data, epsilon, min_pts):\n",
    "    distance_matrix = make_distance_matrix(data)\n",
    "    clusters = make_clusters(distance_matrix, epsilon)\n",
    "    merged_clusters = merge_clusters(clusters, min_pts)\n",
    "    labels = []\n",
    "    for i in range(0, len(data)):\n",
    "        labels.append(-1)\n",
    "    for i in range(0, len(merged_clusters)):\n",
    "        for j in range(0, len(merged_clusters[i])):\n",
    "            labels[merged_clusters[i][j]] = i\n",
    "    return labels"
   ]
  },
  {
   "cell_type": "code",
   "execution_count": 24,
   "metadata": {
    "collapsed": true
   },
   "outputs": [],
   "source": [
    "def calculateAccuracy(predictions, actual_targets):\n",
    "    right_counts = 0\n",
    "    for i in range(0,len(predictions)):\n",
    "        if (predictions[i] == actual_targets[i]):\n",
    "            right_counts += 1\n",
    "    return (right_counts/len(predictions))"
   ]
  },
  {
   "cell_type": "code",
   "execution_count": 44,
   "metadata": {},
   "outputs": [
    {
     "name": "stdout",
     "output_type": "stream",
     "text": [
      "[[0, 1, 2, 3, 4, 5, 6, 7, 8, 9, 10, 11, 12, 13, 14, 15, 16, 17, 18, 19, 20, 21, 22, 23, 24, 25, 26, 27, 28, 29, 30, 31, 32, 33, 34, 35, 36, 37, 38, 39, 40, 41, 42, 43, 44, 45, 46, 47, 48, 49], [50, 51, 52, 53, 54, 55, 56, 57, 58, 59, 60, 61, 62, 63, 64, 65, 66, 67, 68, 69, 70, 71, 72, 73, 74, 75, 76, 77, 78, 79, 80, 81, 82, 83, 84, 85, 86, 87, 88, 89, 90, 91, 92, 93, 94, 95, 96, 97, 98, 99, 100, 101, 102, 103, 104, 105, 107, 108, 109, 110, 111, 112, 113, 114, 115, 116, 118, 119, 120, 121, 122, 123, 124, 125, 126, 127, 128, 129, 130, 132, 133, 134, 135, 136, 137, 138, 139, 140, 141, 142, 143, 144, 145, 146, 147, 148, 149], [131, 117]]\n"
     ]
    },
    {
     "data": {
      "text/plain": [
       "0.68"
      ]
     },
     "execution_count": 44,
     "metadata": {},
     "output_type": "execute_result"
    }
   ],
   "source": [
    "calculateAccuracy(DBSCAN_predict(iris.data, 0.7, 2), iris.target)"
   ]
  }
 ],
 "metadata": {
  "kernelspec": {
   "display_name": "Python 3",
   "language": "python",
   "name": "python3"
  },
  "language_info": {
   "codemirror_mode": {
    "name": "ipython",
    "version": 3
   },
   "file_extension": ".py",
   "mimetype": "text/x-python",
   "name": "python",
   "nbconvert_exporter": "python",
   "pygments_lexer": "ipython3",
   "version": "3.6.3"
  }
 },
 "nbformat": 4,
 "nbformat_minor": 2
}
