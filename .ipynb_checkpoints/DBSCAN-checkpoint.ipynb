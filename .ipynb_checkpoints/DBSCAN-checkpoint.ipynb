{
 "cells": [
  {
   "cell_type": "code",
   "execution_count": 1,
   "metadata": {
    "collapsed": true
   },
   "outputs": [],
   "source": [
    "from math import sqrt\n",
    "\n",
    "def euclidean_distance(instance1, instance2):\n",
    "    return sqrt((instance1[0]-instance2[0])**2 + (instance1[1]-instance2[1])**2 + (instance1[2]-instance2[2])**2\n",
    "        + (instance1[3]-instance2[3])**2)"
   ]
  },
  {
   "cell_type": "code",
   "execution_count": 11,
   "metadata": {},
   "outputs": [],
   "source": [
    "def make_distance_matrix(array):\n",
    "    distance_matrix = []\n",
    "    for i in range(0, len(array)):\n",
    "        distance_matrix.append([])\n",
    "        for j in range (0, len(array)):\n",
    "            distance_matrix[i].append(euclidean_distance(array[i], array[j]))\n",
    "    return distance_matrix"
   ]
  },
  {
   "cell_type": "code",
   "execution_count": 14,
   "metadata": {},
   "outputs": [],
   "source": [
    "from sklearn import datasets\n",
    "iris = datasets.load_iris()"
   ]
  },
  {
   "cell_type": "code",
   "execution_count": 19,
   "metadata": {},
   "outputs": [],
   "source": [
    "def make_clusters(distance_matrix, epsilon):\n",
    "    clusters = []\n",
    "    for i in range(0, len(distance_matrix)):\n",
    "        clusters.append([])\n",
    "        for j in range (0, len(distance_matrix[i])):\n",
    "            if (distance_matrix[i][j] <= epsilon):\n",
    "                clusters[i].append(j)\n",
    "    return clusters"
   ]
  },
  {
   "cell_type": "code",
   "execution_count": 93,
   "metadata": {},
   "outputs": [],
   "source": [
    "def merge_clusters(clusters, min_pts):\n",
    "    merged_clusters = []\n",
    "    for i in range(0, len(clusters)):\n",
    "        if (len(clusters[i]) >= min_pts):\n",
    "            if (len(merged_clusters) == 0):\n",
    "                merged_clusters.append(clusters[i])\n",
    "            else:\n",
    "                already_listed = False\n",
    "                for j in range(0, len(merged_clusters)):\n",
    "                    if (not set(merged_clusters[j]).isdisjoint(set(clusters[i]))):\n",
    "                        merged_clusters[j] = list(set(merged_clusters[j]).union(set(clusters[i])))\n",
    "                        already_listed = True\n",
    "                        break;\n",
    "                    else:\n",
    "                        pass\n",
    "                if (not already_listed):\n",
    "                    merged_clusters.append(clusters[i])\n",
    "        else:\n",
    "            pass\n",
    "    return merged_clusters"
   ]
  },
  {
   "cell_type": "code",
   "execution_count": 103,
   "metadata": {},
   "outputs": [],
   "source": [
    "def DBSCAN_predict(data, epsilon, min_pts):\n",
    "    distance_matrix = make_distance_matrix(data)\n",
    "    clusters = make_clusters(distance_matrix, epsilon)\n",
    "    merged_clusters = merge_clusters(clusters, min_pts)\n",
    "    labels = []\n",
    "    for i in range(0, len(data)):\n",
    "        labels.append(-1)\n",
    "    for i in range(0, len(merged_clusters)):\n",
    "        for j in range(0, len(merged_clusters[i])):\n",
    "            labels[merged_clusters[i][j]] = i\n",
    "    return labels"
   ]
  },
  {
   "cell_type": "code",
   "execution_count": 107,
   "metadata": {},
   "outputs": [],
   "source": [
    "def calculateAccuracy(predictions, actual_targets):\n",
    "    right_counts = 0\n",
    "    for i in range(0,len(predictions)):\n",
    "        if (predictions[i] == actual_targets[i]):\n",
    "            right_counts += 1\n",
    "    return (right_counts/len(predictions))"
   ]
  },
  {
   "cell_type": "code",
   "execution_count": 108,
   "metadata": {},
   "outputs": [
    {
     "data": {
      "text/plain": [
       "0.6666666666666666"
      ]
     },
     "execution_count": 108,
     "metadata": {},
     "output_type": "execute_result"
    }
   ],
   "source": [
    "calculateAccuracy(DBSCAN_predict(iris.data, 1, 2), iris.target)"
   ]
  }
 ],
 "metadata": {
  "kernelspec": {
   "display_name": "Python 3",
   "language": "python",
   "name": "python3"
  },
  "language_info": {
   "codemirror_mode": {
    "name": "ipython",
    "version": 3
   },
   "file_extension": ".py",
   "mimetype": "text/x-python",
   "name": "python",
   "nbconvert_exporter": "python",
   "pygments_lexer": "ipython3",
   "version": "3.7.0"
  }
 },
 "nbformat": 4,
 "nbformat_minor": 2
}
