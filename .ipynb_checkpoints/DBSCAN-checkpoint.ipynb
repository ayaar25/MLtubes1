{
 "cells": [
  {
   "cell_type": "markdown",
   "metadata": {},
   "source": [
    "<h1>DBSCAN</h1>\n",
    "<h2>Penjelasan Singkat dan Pseudocode</h2>\n",
    "<p>DBSCAN adalah sebuah algoritma clustering berdasarkan kerapatan pada data. DBSCAN sendiri adalah singkatan dari <i>Density-based spatial clustering of applications with noise</i>. DBSCAN mengelompokkan instance-instance yang dekat menjadi satu kelompok berdasarkan jarak maksimum yang disebut epsilon. Sebuah cluster minimal memiliki anggota sebanyak MinPts.<p>\n",
    "<p>Pseudocode algoritma DBSCAN adalah sebagai berikut:<p>\n",
    "<ol>\n",
    "    <li>Hitung jarak antar masing-masing instance. Buatlah matriks jarak dari setiap instance.</li>\n",
    "    <li>Untuk setiap instance, tentukan instance mana saja yang termasuk dalam neighborhoodnya: yakni instance mana saja yang memiliki jarak kurang dari epsilon dengan instance yang sedang ditentukan neighborhoodnya.</li>\n",
    "    <li>Leburkan setiap neighborhood yang memiliki irisan keanggotaan.</li>\n",
    "</ol>"
   ]
  },
  {
   "cell_type": "markdown",
   "metadata": {},
   "source": [
    "<h2>Source Code</h2>"
   ]
  },
  {
   "cell_type": "markdown",
   "metadata": {},
   "source": [
    "Jarak yang digunakan pada tugas ini adalah Euclidean distance."
   ]
  },
  {
   "cell_type": "code",
   "execution_count": 15,
   "metadata": {
    "collapsed": true
   },
   "outputs": [],
   "source": [
    "from math import sqrt\n",
    "\n",
    "def euclidean_distance(instance1, instance2):\n",
    "    return sqrt((instance1[0]-instance2[0])**2 + (instance1[1]-instance2[1])**2 + (instance1[2]-instance2[2])**2\n",
    "        + (instance1[3]-instance2[3])**2)"
   ]
  },
  {
   "cell_type": "markdown",
   "metadata": {},
   "source": [
    "Fungsi di bawah adalah mengembalikan sebuah matriks jarak. Masukannya berupa array yang berisi nilai atribut masing-masing elemen: [[atr11, atr21, atr31, atr41], [atr12, atr22, atr32, atr42], . . . .]"
   ]
  },
  {
   "cell_type": "code",
   "execution_count": 16,
   "metadata": {
    "collapsed": true
   },
   "outputs": [],
   "source": [
    "def make_distance_matrix(array):\n",
    "    distance_matrix = []\n",
    "    for i in range(0, len(array)):\n",
    "        distance_matrix.append([])\n",
    "        for j in range (0, len(array)):\n",
    "            distance_matrix[i].append(euclidean_distance(array[i], array[j]))\n",
    "    return distance_matrix"
   ]
  },
  {
   "cell_type": "markdown",
   "metadata": {},
   "source": [
    "Fungsi di bawah menghasilkan neighborhood-neighborhood yang terbentuk berdasarkan matriks jarak dan radius neighborhood (epsilon)"
   ]
  },
  {
   "cell_type": "code",
   "execution_count": 17,
   "metadata": {
    "collapsed": true
   },
   "outputs": [],
   "source": [
    "def make_neighborhoods(distance_matrix, epsilon):\n",
    "    neighborhoods = []\n",
    "    for i in range(0, len(distance_matrix)):\n",
    "        neighborhoods.append([])\n",
    "        for j in range (0, len(distance_matrix[i])):\n",
    "            if (distance_matrix[i][j] <= epsilon):\n",
    "                neighborhoods[i].append(j)\n",
    "    return neighborhoods"
   ]
  },
  {
   "cell_type": "markdown",
   "metadata": {},
   "source": [
    "Fungsi di bawah melakukan peleburan pada neighborhood-neighborhood yang beririsan."
   ]
  },
  {
   "cell_type": "code",
   "execution_count": 18,
   "metadata": {
    "collapsed": true
   },
   "outputs": [],
   "source": [
    "def merge_neighborhoods(neighborhoods, min_pts):\n",
    "    merged_neighborhoods = []\n",
    "    for i in range(0, len(neighborhoods)):\n",
    "        if (len(neighborhoods[i]) >= min_pts):\n",
    "            if (len(merged_neighborhoods) == 0):\n",
    "                merged_neighborhoods.append(neighborhoods[i])\n",
    "            else:\n",
    "                already_listed = False\n",
    "                first_match_index = -1\n",
    "                for j in range(0, len(merged_neighborhoods)):\n",
    "                    if (not set(merged_neighborhoods[j]).isdisjoint(set(neighborhoods[i]))):\n",
    "                        already_listed = True\n",
    "                        if (first_match_index == -1):\n",
    "                            merged_neighborhoods[j] = list(set(merged_neighborhoods[j]).union(set(neighborhoods[i])))\n",
    "                            first_match_index = j\n",
    "                        else:\n",
    "                            merged_neighborhoods[first_match_index] = list(set(merged_neighborhoods[first_match_index]).union(set(neighborhoods[i])))\n",
    "                            merged_neighborhoods[j] = []\n",
    "                    else:\n",
    "                        pass\n",
    "                if (not already_listed):\n",
    "                    merged_neighborhoods.append(neighborhoods[i])\n",
    "        else:\n",
    "            pass\n",
    "    i = len(merged_neighborhoods)-1\n",
    "    while (i >= 0):\n",
    "        if (len(merged_neighborhoods[i]) == 0):\n",
    "            del merged_neighborhoods[i]\n",
    "        i = i-1\n",
    "    return merged_neighborhoods"
   ]
  },
  {
   "cell_type": "markdown",
   "metadata": {},
   "source": [
    "Berikut adalah fungsi prediksi DBSCAN."
   ]
  },
  {
   "cell_type": "code",
   "execution_count": 19,
   "metadata": {
    "collapsed": true
   },
   "outputs": [],
   "source": [
    "def DBSCAN_predict(data, epsilon, min_pts):\n",
    "    distance_matrix = make_distance_matrix(data)\n",
    "    neighborhoods = make_neighborhoods(distance_matrix, epsilon)\n",
    "    merged_clusters = merge_neighborhoods(neighborhoods, min_pts)\n",
    "    labels = []\n",
    "    for i in range(0, len(data)):\n",
    "        labels.append(-1)\n",
    "    for i in range(0, len(merged_clusters)):\n",
    "        for j in range(0, len(merged_clusters[i])):\n",
    "            labels[merged_clusters[i][j]] = i\n",
    "    return labels"
   ]
  },
  {
   "cell_type": "markdown",
   "metadata": {},
   "source": [
    "<h2>Clustering pada Dataset Iris</h2>"
   ]
  },
  {
   "cell_type": "code",
   "execution_count": 20,
   "metadata": {
    "collapsed": true
   },
   "outputs": [],
   "source": [
    "from sklearn import datasets\n",
    "iris = datasets.load_iris()"
   ]
  },
  {
   "cell_type": "code",
   "execution_count": 21,
   "metadata": {},
   "outputs": [
    {
     "data": {
      "text/plain": [
       "0.68000000000000005"
      ]
     },
     "execution_count": 21,
     "metadata": {},
     "output_type": "execute_result"
    }
   ],
   "source": [
    "from sklearn.metrics import accuracy_score\n",
    "accuracy_score(iris.target, DBSCAN_predict(iris.data, 0.7, 2))"
   ]
  },
  {
   "cell_type": "markdown",
   "metadata": {},
   "source": [
    "<h2>Pembagian Tugas Kelompok</h2>\n",
    "<ul>\n",
    "    <li>13515032 Helena Suzane Graciella Ringoringo: DBSCAN</li>\n",
    "    <li>13515046 Lathifah Nurrahmah: K-Means dan K-Medoids</li>\n",
    "    <li>13515098 Aya Aurora Rimbamorani: Agglomerative Clustering</li>\n",
    "</ul>"
   ]
  }
 ],
 "metadata": {
  "kernelspec": {
   "display_name": "Python 3",
   "language": "python",
   "name": "python3"
  },
  "language_info": {
   "codemirror_mode": {
    "name": "ipython",
    "version": 3
   },
   "file_extension": ".py",
   "mimetype": "text/x-python",
   "name": "python",
   "nbconvert_exporter": "python",
   "pygments_lexer": "ipython3",
   "version": "3.6.3"
  }
 },
 "nbformat": 4,
 "nbformat_minor": 2
}
